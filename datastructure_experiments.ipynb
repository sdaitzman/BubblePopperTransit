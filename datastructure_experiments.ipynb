{
 "nbformat": 4,
 "nbformat_minor": 2,
 "metadata": {
  "language_info": {
   "name": "python",
   "codemirror_mode": {
    "name": "ipython",
    "version": 3
   },
   "version": "3.7.4-final"
  },
  "orig_nbformat": 2,
  "file_extension": ".py",
  "mimetype": "text/x-python",
  "name": "python",
  "npconvert_exporter": "python",
  "pygments_lexer": "ipython3",
  "version": 3,
  "kernelspec": {
   "name": "python3",
   "display_name": "Python 3"
  }
 },
 "cells": [
  {
   "cell_type": "code",
   "execution_count": 12,
   "metadata": {},
   "outputs": [],
   "source": [
    "import networkx as nx\n",
    "from datastructure import LocationNode, TransitEdge, Timing"
   ]
  },
  {
   "cell_type": "code",
   "execution_count": 13,
   "metadata": {},
   "outputs": [
    {
     "output_type": "execute_result",
     "data": {
      "text/plain": "<datastructure.LocationNode at 0x7f842036a9d0>"
     },
     "metadata": {},
     "execution_count": 13
    }
   ],
   "source": [
    "LocationNode([2,2])"
   ]
  },
  {
   "cell_type": "code",
   "execution_count": 22,
   "metadata": {},
   "outputs": [
    {
     "output_type": "stream",
     "name": "stdout",
     "text": "(<datastructure.LocationNode object at 0x7f8420378a50>, <datastructure.LocationNode object at 0x7f84203789d0>)\n"
    }
   ],
   "source": [
    "G = nx.MultiDiGraph()\n",
    "\n",
    "olin = LocationNode([1,1])\n",
    "eliot = LocationNode([0,0])\n",
    "\n",
    "G.add_node(eliot)\n",
    "G.add_node(olin)\n",
    "\n",
    "G.add_edge(olin, eliot, length = 3)\n",
    "\n",
    "for i in G.edges():\n",
    "    print(i)"
   ]
  },
  {
   "cell_type": "code",
   "execution_count": null,
   "metadata": {},
   "outputs": [],
   "source": []
  }
 ]
}