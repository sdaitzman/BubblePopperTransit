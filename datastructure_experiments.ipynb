{
 "nbformat": 4,
 "nbformat_minor": 2,
 "metadata": {
  "language_info": {
   "name": "python",
   "codemirror_mode": {
    "name": "ipython",
    "version": 3
   },
   "version": "3.7.4-final"
  },
  "orig_nbformat": 2,
  "file_extension": ".py",
  "mimetype": "text/x-python",
  "name": "python",
  "npconvert_exporter": "python",
  "pygments_lexer": "ipython3",
  "version": 3,
  "kernelspec": {
   "name": "python3",
   "display_name": "Python 3"
  }
 },
 "cells": [
  {
   "cell_type": "code",
   "execution_count": 2,
   "metadata": {},
   "outputs": [],
   "source": [
    "import networkx as nx\n",
    "from datastructure import LocationNode, TransitEdge, Timing"
   ]
  },
  {
   "cell_type": "code",
   "execution_count": 4,
   "metadata": {},
   "outputs": [
    {
     "output_type": "execute_result",
     "data": {
      "text/plain": "<datastructure.LocationNode at 0x7f9560688250>"
     },
     "metadata": {},
     "execution_count": 4
    }
   ],
   "source": [
    "LocationNode([2,2])"
   ]
  },
  {
   "cell_type": "code",
   "execution_count": 21,
   "metadata": {},
   "outputs": [
    {
     "output_type": "stream",
     "name": "stdout",
     "text": "100\n[3, 4]\n100\n[5, 6]\n10\n"
    }
   ],
   "source": [
    "G = nx.MultiDiGraph()\n",
    "\n",
    "olin = LocationNode([1,2])\n",
    "eliot = LocationNode([3,4])\n",
    "babson = LocationNode([5,6])\n",
    "\n",
    "G.add_node(eliot)\n",
    "G.add_node(olin)\n",
    "G.add_node(babson)\n",
    "\n",
    "\n",
    "G.add_edge(olin, eliot, path = TransitEdge(calories=100))\n",
    "G.add_edge(olin, eliot, path = TransitEdge(calories=200))\n",
    "\n",
    "G.add_edge(olin, babson, path = TransitEdge(calories=10))\n",
    "\n",
    "print(G.edges[olin, eliot, 0]['path'].calories)\n",
    "\n",
    "# iterate thru all nodes\n",
    "for node in G.nodes:\n",
    "    \n",
    "    # iterate through neighbors of the node\n",
    "    nbrs = G.neighbors(node)\n",
    "    for nbr in nbrs:\n",
    "        print(nbr.coords)\n",
    "\n",
    "        # get the edge between the parent node and this one\n",
    "        print(G.edges[node,nbr,0]['path'].calories)"
   ]
  },
  {
   "cell_type": "code",
   "execution_count": 7,
   "metadata": {},
   "outputs": [
    {
     "output_type": "execute_result",
     "data": {
      "text/plain": "OutMultiEdgeView([(<datastructure.LocationNode object at 0x7f9560681790>, <datastructure.LocationNode object at 0x7f9560681c90>, 0), (<datastructure.LocationNode object at 0x7f9560681790>, <datastructure.LocationNode object at 0x7f95606813d0>, 0)])"
     },
     "metadata": {},
     "execution_count": 7
    }
   ],
   "source": [
    "G.edges()"
   ]
  },
  {
   "cell_type": "code",
   "execution_count": null,
   "metadata": {},
   "outputs": [],
   "source": []
  }
 ]
}